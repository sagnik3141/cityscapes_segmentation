{
 "cells": [
  {
   "cell_type": "code",
   "execution_count": 1,
   "metadata": {},
   "outputs": [],
   "source": [
    "import torch\n",
    "import torch.nn as nn\n",
    "import torch.nn.functional as F\n",
    "from torch.utils.data import DataLoader\n",
    "from torchvision import datasets, transforms\n",
    "from torchvision.utils import make_grid\n",
    "\n",
    "import numpy as np\n",
    "import pandas as pd\n",
    "from sklearn.metrics import confusion_matrix\n",
    "import matplotlib.pyplot as plt\n",
    "%matplotlib inline\n",
    "\n",
    "import os\n",
    "from PIL import Image\n",
    "from IPython.display import display\n",
    "\n",
    "from torch.utils import data\n",
    "\n",
    "import cv2\n",
    "from pathlib import Path\n",
    "from torch.nn import functional as F"
   ]
  },
  {
   "cell_type": "code",
   "execution_count": null,
   "metadata": {},
   "outputs": [],
   "source": [
    "! ls"
   ]
  },
  {
   "cell_type": "code",
   "execution_count": null,
   "metadata": {},
   "outputs": [],
   "source": [
    "! ls data"
   ]
  },
  {
   "cell_type": "code",
   "execution_count": null,
   "metadata": {},
   "outputs": [],
   "source": [
    "! ls data/cityscapes_data"
   ]
  },
  {
   "cell_type": "code",
   "execution_count": 2,
   "metadata": {},
   "outputs": [],
   "source": [
    "train_list = []\n",
    "for filename in os.listdir('data/cityscapes_data/train'):\n",
    "    if filename.endswith(\".jpg\"):\n",
    "        train_list.append(os.path.join('data/cityscapes_data/train', filename))"
   ]
  },
  {
   "cell_type": "code",
   "execution_count": null,
   "metadata": {},
   "outputs": [],
   "source": [
    "train_list"
   ]
  },
  {
   "cell_type": "code",
   "execution_count": 3,
   "metadata": {},
   "outputs": [],
   "source": [
    "val_list = []\n",
    "for filename in os.listdir('data/cityscapes_data/val'):\n",
    "    if filename.endswith(\".jpg\"):\n",
    "        val_list.append(os.path.join('data/cityscapes_data/val', filename))"
   ]
  },
  {
   "cell_type": "code",
   "execution_count": null,
   "metadata": {},
   "outputs": [],
   "source": [
    "val_list"
   ]
  },
  {
   "cell_type": "code",
   "execution_count": null,
   "metadata": {},
   "outputs": [],
   "source": [
    "img_test = cv2.imread(train_list[23])\n",
    "plt.imshow(img_test)"
   ]
  },
  {
   "cell_type": "code",
   "execution_count": null,
   "metadata": {},
   "outputs": [],
   "source": [
    "img_test.shape"
   ]
  },
  {
   "cell_type": "code",
   "execution_count": 4,
   "metadata": {},
   "outputs": [],
   "source": [
    "def split_img(path):\n",
    "    img_mask = cv2.imread(path)\n",
    "    img = img_mask[:,:256]\n",
    "    mask = img_mask[:,256:]\n",
    "    return (img, mask)"
   ]
  },
  {
   "cell_type": "code",
   "execution_count": null,
   "metadata": {},
   "outputs": [],
   "source": [
    "img, mask = load_img(train_list[23])"
   ]
  },
  {
   "cell_type": "code",
   "execution_count": null,
   "metadata": {},
   "outputs": [],
   "source": [
    "plt.imshow(img)"
   ]
  },
  {
   "cell_type": "code",
   "execution_count": null,
   "metadata": {},
   "outputs": [],
   "source": [
    "plt.imshow(mask)"
   ]
  },
  {
   "cell_type": "code",
   "execution_count": null,
   "metadata": {},
   "outputs": [],
   "source": []
  },
  {
   "cell_type": "code",
   "execution_count": 5,
   "metadata": {},
   "outputs": [],
   "source": [
    "class UNet(nn.Module):\n",
    "    \n",
    "    def __init__(self):\n",
    "        super().__init__()\n",
    "        self.conv1 = nn.Conv2d(3, 16, 3, 1, (1,1))\n",
    "        self.bn1 = nn.BatchNorm2d(16)\n",
    "        self.conv2 = nn.Conv2d(16, 16, 3, 1, (1,1))\n",
    "        self.bn2 = nn.BatchNorm2d(16)\n",
    "        self.conv3 = nn.Conv2d(16, 32, 3, 1, (1,1))\n",
    "        self.bn3 = nn.BatchNorm2d(32)\n",
    "        self.conv4 = nn.Conv2d(32, 32, 3, 1, (1,1))\n",
    "        self.bn4 = nn.BatchNorm2d(32)\n",
    "        self.conv5 = nn.Conv2d(32, 64, 3, 1, (1,1))\n",
    "        self.bn5 = nn.BatchNorm2d(64)\n",
    "        self.conv6 = nn.Conv2d(64, 64, 3, 1, (1,1))\n",
    "        self.bn6 = nn.BatchNorm2d(64)\n",
    "        self.conv7 = nn.Conv2d(64, 128, 3, 1, (1,1))\n",
    "        self.bn7 = nn.BatchNorm2d(128)\n",
    "        self.conv8 = nn.Conv2d(128, 128, 3, 1, (1,1))\n",
    "        self.bn8 = nn.BatchNorm2d(128)\n",
    "        self.conv9 = nn.Conv2d(128, 256, 3, 1, (1,1))\n",
    "        self.bn9 = nn.BatchNorm2d(256)\n",
    "        self.conv10 = nn.Conv2d(256, 256, 3, 1, (1,1))\n",
    "        self.bn10 = nn.BatchNorm2d(256)\n",
    "        self.tconv1 = nn.ConvTranspose2d(256, 128, 2, 2)\n",
    "        self.conv11 = nn.Conv2d(256, 128, 3, 1, (1,1))\n",
    "        self.bn11 = nn.BatchNorm2d(128)\n",
    "        self.conv12 = nn.Conv2d(128, 128, 3, 1, (1,1))\n",
    "        self.bn12 = nn.BatchNorm2d(128)\n",
    "        self.tconv2 = nn.ConvTranspose2d(128, 64, 2, 2)\n",
    "        self.conv13 = nn.Conv2d(128, 64, 3, 1, (1,1))\n",
    "        self.bn13 = nn.BatchNorm2d(64)\n",
    "        self.conv14 = nn.Conv2d(64, 64, 3, 1, (1,1))\n",
    "        self.bn14 = nn.BatchNorm2d(64)\n",
    "        self.tconv3 = nn.ConvTranspose2d(64, 32, 2, 2)\n",
    "        self.conv15 = nn.Conv2d(64, 32, 3, 1, (1,1))\n",
    "        self.bn15 = nn.BatchNorm2d(32)\n",
    "        self.conv16 = nn.Conv2d(32, 32, 3, 1, (1,1))\n",
    "        self.bn16 = nn.BatchNorm2d(32)\n",
    "        self.tconv4 = nn.ConvTranspose2d(32, 16, 2, 2)\n",
    "        self.conv17 = nn.Conv2d(32, 16, 3, 1, (1,1))\n",
    "        self.bn17 = nn.BatchNorm2d(16)\n",
    "        self.conv18 = nn.Conv2d(16, 16, 3, 1, (1,1))\n",
    "        self.bn18 = nn.BatchNorm2d(16)\n",
    "        self.conv19 = nn.Conv2d(16, 3, 1, 1)\n",
    "        self.bn19 = nn.BatchNorm2d(3)\n",
    "    def forward(self, X):\n",
    "        c1 = self.conv1(X)\n",
    "        c1 = self.bn1(c1)\n",
    "        c1 = F.relu(c1)\n",
    "        c1 = self.conv2(c1)\n",
    "        c1 = self.bn2(c1)\n",
    "        c1 = F.relu(c1)\n",
    "        p1 = F.max_pool2d(c1, 2, 2)\n",
    "        c2 = self.conv3(p1)\n",
    "        c2 = self.bn3(c2)\n",
    "        c2 = F.relu(c2)\n",
    "        c2 = self.conv4(c2)\n",
    "        c2 = self.bn4(c2)\n",
    "        c2 = F.relu(c2)\n",
    "        p2 = F.max_pool2d(c2, 2, 2)\n",
    "        c3 = self.conv5(p2)\n",
    "        c3 = self.bn5(c3)\n",
    "        c3 = F.relu(c3)\n",
    "        c3 = self.conv6(c3)\n",
    "        c3 = self.bn6(c3)\n",
    "        c3 = F.relu(c3)\n",
    "        p3 = F.max_pool2d(c3, 2, 2)\n",
    "        c4 = self.conv7(p3)\n",
    "        c4 = self.bn7(c4)\n",
    "        c4 = F.relu(c4)\n",
    "        c4 = self.conv8(c4)\n",
    "        c4 = self.bn8(c4)\n",
    "        c4 = F.relu(c4)\n",
    "        p4 = F.max_pool2d(c4, 2, 2)\n",
    "        c5 = self.conv9(p4)\n",
    "        c5 = self.bn9(c5)\n",
    "        c5 = F.relu(c5)\n",
    "        c5 = self.conv10(c5)\n",
    "        c5 = self.bn10(c5)\n",
    "        c5 = F.relu(c5)\n",
    "        u6 = self.tconv1(c5)\n",
    "        u6 = torch.cat((u6,c4),1)\n",
    "        c6 = self.conv11(u6)\n",
    "        c6 = self.bn11(c6)\n",
    "        c6 = F.relu(c6)\n",
    "        c6 = self.conv12(c6)\n",
    "        c6 = self.bn12(c6)\n",
    "        c6 = F.relu(c6)\n",
    "        u7 = self.tconv2(c6)\n",
    "        u7 = torch.cat((u7,c3),1)\n",
    "        c7 = self.conv13(u7)\n",
    "        c7 = self.bn13(c7)\n",
    "        c7 = F.relu(c7)\n",
    "        c7 = self.conv14(c7)\n",
    "        c7 = self.bn14(c7)\n",
    "        c7 = F.relu(c7)\n",
    "        u8 = self.tconv3(c7)\n",
    "        u8 = torch.cat((u8,c2),1)\n",
    "        c8 = self.conv15(u8)\n",
    "        c8 = self.bn15(c8)\n",
    "        c8 = F.relu(c8)\n",
    "        c8 = self.conv16(c8)\n",
    "        c8 = self.bn16(c8)\n",
    "        c8 = F.relu(c8)\n",
    "        u9 = self.tconv4(c8)\n",
    "        u9 = torch.cat((u9,c1),1)\n",
    "        c9 = self.conv17(u9)\n",
    "        c9 = self.bn17(c9)\n",
    "        c9 = F.relu(c9)\n",
    "        c9 = self.conv18(c9)\n",
    "        c9 = self.bn18(c9)\n",
    "        c9 = F.relu(c9)\n",
    "        c10 = self.conv19(c9)\n",
    "        c10 = self.bn19(c10)\n",
    "        return c10"
   ]
  },
  {
   "cell_type": "code",
   "execution_count": null,
   "metadata": {},
   "outputs": [],
   "source": [
    "test_model = UNet()"
   ]
  },
  {
   "cell_type": "code",
   "execution_count": null,
   "metadata": {},
   "outputs": [],
   "source": [
    "img = img[np.newaxis, :,:,:]"
   ]
  },
  {
   "cell_type": "code",
   "execution_count": null,
   "metadata": {},
   "outputs": [],
   "source": [
    "img.shape"
   ]
  },
  {
   "cell_type": "code",
   "execution_count": null,
   "metadata": {},
   "outputs": [],
   "source": [
    "img = np.transpose(img, (0, 3, 1, 2))"
   ]
  },
  {
   "cell_type": "code",
   "execution_count": null,
   "metadata": {},
   "outputs": [],
   "source": [
    "img.shape"
   ]
  },
  {
   "cell_type": "code",
   "execution_count": null,
   "metadata": {},
   "outputs": [],
   "source": [
    "img"
   ]
  },
  {
   "cell_type": "code",
   "execution_count": null,
   "metadata": {},
   "outputs": [],
   "source": [
    "img_pred = test_model(torch.from_numpy(img).float())"
   ]
  },
  {
   "cell_type": "code",
   "execution_count": null,
   "metadata": {},
   "outputs": [],
   "source": [
    "img_pred.shape"
   ]
  },
  {
   "cell_type": "code",
   "execution_count": null,
   "metadata": {},
   "outputs": [],
   "source": [
    "def create_cityscapes_label_colormap():\n",
    "    colormap = np.zeros((19, 3), dtype=np.uint8)\n",
    "    colormap[0] = [128, 64, 128]\n",
    "    colormap[1] = [244, 35, 232]\n",
    "    colormap[2] = [70, 70, 70]\n",
    "    colormap[3] = [102, 102, 156]\n",
    "    colormap[4] = [190, 153, 153]\n",
    "    colormap[5] = [153, 153, 153]\n",
    "    colormap[6] = [250, 170, 30]\n",
    "    colormap[7] = [220, 220, 0]\n",
    "    colormap[8] = [107, 142, 35]\n",
    "    colormap[9] = [152, 251, 152]\n",
    "    colormap[10] = [70, 130, 180]\n",
    "    colormap[11] = [220, 20, 60]\n",
    "    colormap[12] = [255, 0, 0]\n",
    "    colormap[13] = [0, 0, 142]\n",
    "    colormap[14] = [0, 0, 70]\n",
    "    colormap[15] = [0, 60, 100]\n",
    "    colormap[16] = [0, 80, 100]\n",
    "    colormap[17] = [0, 0, 230]\n",
    "    colormap[18] = [119, 11, 32]\n",
    "    return colormap"
   ]
  },
  {
   "cell_type": "code",
   "execution_count": null,
   "metadata": {},
   "outputs": [],
   "source": [
    "colormap = create_cityscapes_label_colormap()"
   ]
  },
  {
   "cell_type": "code",
   "execution_count": null,
   "metadata": {},
   "outputs": [],
   "source": [
    "mask[3][12]"
   ]
  },
  {
   "cell_type": "code",
   "execution_count": null,
   "metadata": {},
   "outputs": [],
   "source": [
    "mask = torch.from_numpy(mask)"
   ]
  },
  {
   "cell_type": "code",
   "execution_count": null,
   "metadata": {},
   "outputs": [],
   "source": [
    "mask.shape"
   ]
  },
  {
   "cell_type": "code",
   "execution_count": null,
   "metadata": {},
   "outputs": [],
   "source": [
    "mask = torch.nn.functional.one_hot(mask)"
   ]
  },
  {
   "cell_type": "code",
   "execution_count": null,
   "metadata": {},
   "outputs": [],
   "source": [
    "plt.imshow(mask)"
   ]
  },
  {
   "cell_type": "code",
   "execution_count": null,
   "metadata": {},
   "outputs": [],
   "source": [
    "mask.shape"
   ]
  },
  {
   "cell_type": "code",
   "execution_count": null,
   "metadata": {},
   "outputs": [],
   "source": [
    "mask[255][128]"
   ]
  },
  {
   "cell_type": "code",
   "execution_count": null,
   "metadata": {},
   "outputs": [],
   "source": [
    "classes_list = []\n",
    "for path in train_list:\n",
    "    img, mask = load_img(path)\n",
    "    for i in range(256):\n",
    "        for j in range(256):\n",
    "            classes_list.append(mask[i][j])"
   ]
  },
  {
   "cell_type": "code",
   "execution_count": null,
   "metadata": {},
   "outputs": [],
   "source": [
    "classes_set = [1,2,3,4,4,4,4,4,4]"
   ]
  },
  {
   "cell_type": "code",
   "execution_count": null,
   "metadata": {},
   "outputs": [],
   "source": [
    "3 in set(classes_set)"
   ]
  },
  {
   "cell_type": "code",
   "execution_count": null,
   "metadata": {},
   "outputs": [],
   "source": [
    "a = 1"
   ]
  },
  {
   "cell_type": "code",
   "execution_count": null,
   "metadata": {},
   "outputs": [],
   "source": [
    "b = np.array([1,2,3])"
   ]
  },
  {
   "cell_type": "code",
   "execution_count": null,
   "metadata": {},
   "outputs": [],
   "source": [
    "(a==b)"
   ]
  },
  {
   "cell_type": "code",
   "execution_count": null,
   "metadata": {},
   "outputs": [],
   "source": [
    "l = [1,2,3]"
   ]
  },
  {
   "cell_type": "code",
   "execution_count": null,
   "metadata": {},
   "outputs": [],
   "source": [
    "l"
   ]
  },
  {
   "cell_type": "code",
   "execution_count": null,
   "metadata": {},
   "outputs": [],
   "source": [
    "a = [1,2,3]"
   ]
  },
  {
   "cell_type": "code",
   "execution_count": null,
   "metadata": {},
   "outputs": [],
   "source": [
    "l==a"
   ]
  },
  {
   "cell_type": "code",
   "execution_count": null,
   "metadata": {},
   "outputs": [],
   "source": [
    "mask = mask.tolist()"
   ]
  },
  {
   "cell_type": "code",
   "execution_count": null,
   "metadata": {},
   "outputs": [],
   "source": [
    "classes_list = []\n",
    "for path in train_list:\n",
    "    img, mask = load_img(path)\n",
    "    mask = mask.tolist()\n",
    "    for i in range(256):\n",
    "        for j in range(256):\n",
    "            if mask[i][j] not in classes_list:\n",
    "                classes_list.append(mask[i][j])\n",
    "    print(len(classes_list))"
   ]
  },
  {
   "cell_type": "code",
   "execution_count": null,
   "metadata": {},
   "outputs": [],
   "source": [
    "classes_list"
   ]
  },
  {
   "cell_type": "code",
   "execution_count": null,
   "metadata": {},
   "outputs": [],
   "source": [
    "img, mask = split_img(train_list[5])"
   ]
  },
  {
   "cell_type": "code",
   "execution_count": null,
   "metadata": {},
   "outputs": [],
   "source": [
    "img.shape"
   ]
  },
  {
   "cell_type": "code",
   "execution_count": 6,
   "metadata": {},
   "outputs": [],
   "source": [
    "def load_img(path):\n",
    "    img, mask = split_img(path)\n",
    "    img = np.transpose(img, (2, 0, 1))\n",
    "    img = torch.from_numpy(img).float()\n",
    "    mask = np.transpose(mask, (2, 0, 1))\n",
    "    mask = torch.from_numpy(mask).float()\n",
    "    return img, mask"
   ]
  },
  {
   "cell_type": "code",
   "execution_count": 7,
   "metadata": {},
   "outputs": [],
   "source": [
    "class CityscapesDataset(data.Dataset):\n",
    "    \n",
    "    def __init__(self, path_list):\n",
    "        self.path_list = path_list\n",
    "        \n",
    "    def __len__(self):\n",
    "        return len(self.path_list)\n",
    "    \n",
    "    def __getitem__(self, index):\n",
    "        img, mask = load_img(self.path_list[index])\n",
    "        return (img, mask)"
   ]
  },
  {
   "cell_type": "code",
   "execution_count": 8,
   "metadata": {},
   "outputs": [],
   "source": [
    "dataset = CityscapesDataset(train_list)\n",
    "train_loader = DataLoader(dataset, batch_size = 30, shuffle = True, pin_memory = True)\n",
    "dataset_val = CityscapesDataset(val_list)\n",
    "val_loader = DataLoader(dataset_val, batch_size = 30, pin_memory = True)"
   ]
  },
  {
   "cell_type": "code",
   "execution_count": null,
   "metadata": {},
   "outputs": [],
   "source": [
    "for image, mask in train_loader:\n",
    "    break"
   ]
  },
  {
   "cell_type": "code",
   "execution_count": null,
   "metadata": {},
   "outputs": [],
   "source": [
    "img, mask = load_img(train_list[34])"
   ]
  },
  {
   "cell_type": "code",
   "execution_count": null,
   "metadata": {},
   "outputs": [],
   "source": [
    "img.shape"
   ]
  },
  {
   "cell_type": "code",
   "execution_count": null,
   "metadata": {},
   "outputs": [],
   "source": [
    "pred = test_model(image)"
   ]
  },
  {
   "cell_type": "code",
   "execution_count": null,
   "metadata": {},
   "outputs": [],
   "source": [
    "pred.shape"
   ]
  },
  {
   "cell_type": "code",
   "execution_count": null,
   "metadata": {},
   "outputs": [],
   "source": [
    "a = [1,2,3,4,5]\n",
    "avg = np.mean(a)\n",
    "avg"
   ]
  },
  {
   "cell_type": "code",
   "execution_count": 9,
   "metadata": {},
   "outputs": [],
   "source": [
    "model = UNet()\n",
    "model = model.cuda()"
   ]
  },
  {
   "cell_type": "code",
   "execution_count": 10,
   "metadata": {},
   "outputs": [],
   "source": [
    "criterion = nn.MSELoss()\n",
    "optimizer = torch.optim.Adam(model.parameters(), lr = 0.001)"
   ]
  },
  {
   "cell_type": "code",
   "execution_count": 11,
   "metadata": {},
   "outputs": [
    {
     "name": "stdout",
     "output_type": "stream",
     "text": [
      "Epoch: 0 Batch: 0 Loss: 10960.4970703125\n",
      "Epoch: 0 Batch: 20 Loss: 10435.8662109375\n",
      "Epoch: 0 Batch: 40 Loss: 11230.859375\n",
      "Epoch: 0 Batch: 60 Loss: 11181.2998046875\n",
      "Epoch: 0 Batch: 80 Loss: 10739.923828125\n",
      "Epoch: 1 Batch: 0 Loss: 11546.044921875\n",
      "Epoch: 1 Batch: 20 Loss: 11136.1103515625\n",
      "Epoch: 1 Batch: 40 Loss: 11004.953125\n",
      "Epoch: 1 Batch: 60 Loss: 11053.947265625\n",
      "Epoch: 1 Batch: 80 Loss: 11017.921875\n",
      "Epoch: 2 Batch: 0 Loss: 11120.2265625\n",
      "Epoch: 2 Batch: 20 Loss: 11413.63671875\n",
      "Epoch: 2 Batch: 40 Loss: 11077.005859375\n",
      "Epoch: 2 Batch: 60 Loss: 11130.5986328125\n",
      "Epoch: 2 Batch: 80 Loss: 11464.302734375\n",
      "Epoch: 3 Batch: 0 Loss: 11271.880859375\n",
      "Epoch: 3 Batch: 20 Loss: 10624.501953125\n",
      "Epoch: 3 Batch: 40 Loss: 11164.853515625\n",
      "Epoch: 3 Batch: 60 Loss: 11081.041015625\n",
      "Epoch: 3 Batch: 80 Loss: 11674.2724609375\n",
      "Epoch: 4 Batch: 0 Loss: 10756.16796875\n",
      "Epoch: 4 Batch: 20 Loss: 10895.6748046875\n",
      "Epoch: 4 Batch: 40 Loss: 10921.1318359375\n",
      "Epoch: 4 Batch: 60 Loss: 10691.611328125\n",
      "Epoch: 4 Batch: 80 Loss: 10145.07421875\n",
      "Epoch: 5 Batch: 0 Loss: 11131.2900390625\n",
      "Epoch: 5 Batch: 20 Loss: 10616.8115234375\n",
      "Epoch: 5 Batch: 40 Loss: 10598.830078125\n",
      "Epoch: 5 Batch: 60 Loss: 11501.849609375\n",
      "Epoch: 5 Batch: 80 Loss: 10947.5263671875\n",
      "Epoch: 6 Batch: 0 Loss: 10545.052734375\n",
      "Epoch: 6 Batch: 20 Loss: 11076.6884765625\n",
      "Epoch: 6 Batch: 40 Loss: 10668.54296875\n",
      "Epoch: 6 Batch: 60 Loss: 10655.1748046875\n",
      "Epoch: 6 Batch: 80 Loss: 10969.41796875\n",
      "Epoch: 7 Batch: 0 Loss: 11470.72265625\n",
      "Epoch: 7 Batch: 20 Loss: 11522.33984375\n",
      "Epoch: 7 Batch: 40 Loss: 10357.845703125\n",
      "Epoch: 7 Batch: 60 Loss: 10196.7392578125\n",
      "Epoch: 7 Batch: 80 Loss: 10877.880859375\n",
      "Epoch: 8 Batch: 0 Loss: 11000.779296875\n",
      "Epoch: 8 Batch: 20 Loss: 11256.0068359375\n",
      "Epoch: 8 Batch: 40 Loss: 11268.900390625\n",
      "Epoch: 8 Batch: 60 Loss: 11139.322265625\n",
      "Epoch: 8 Batch: 80 Loss: 10994.7734375\n",
      "Epoch: 9 Batch: 0 Loss: 11030.720703125\n",
      "Epoch: 9 Batch: 20 Loss: 11201.28125\n",
      "Epoch: 9 Batch: 40 Loss: 11169.2041015625\n",
      "Epoch: 9 Batch: 60 Loss: 11058.294921875\n",
      "Epoch: 9 Batch: 80 Loss: 10576.88671875\n",
      "Epoch: 10 Batch: 0 Loss: 11451.646484375\n",
      "Epoch: 10 Batch: 20 Loss: 10896.0185546875\n",
      "Epoch: 10 Batch: 40 Loss: 10754.83203125\n",
      "Epoch: 10 Batch: 60 Loss: 11148.1220703125\n",
      "Epoch: 10 Batch: 80 Loss: 10989.255859375\n",
      "Epoch: 11 Batch: 0 Loss: 11270.8486328125\n",
      "Epoch: 11 Batch: 20 Loss: 10909.6015625\n",
      "Epoch: 11 Batch: 40 Loss: 11202.404296875\n",
      "Epoch: 11 Batch: 60 Loss: 10391.7998046875\n",
      "Epoch: 11 Batch: 80 Loss: 11229.9423828125\n",
      "Epoch: 12 Batch: 0 Loss: 10349.888671875\n",
      "Epoch: 12 Batch: 20 Loss: 10249.123046875\n",
      "Epoch: 12 Batch: 40 Loss: 11022.125\n",
      "Epoch: 12 Batch: 60 Loss: 10676.6259765625\n",
      "Epoch: 12 Batch: 80 Loss: 10504.5859375\n",
      "Epoch: 13 Batch: 0 Loss: 11162.6083984375\n",
      "Epoch: 13 Batch: 20 Loss: 10457.130859375\n",
      "Epoch: 13 Batch: 40 Loss: 10785.63671875\n",
      "Epoch: 13 Batch: 60 Loss: 11042.7470703125\n",
      "Epoch: 13 Batch: 80 Loss: 11248.466796875\n",
      "Epoch: 14 Batch: 0 Loss: 10556.4951171875\n",
      "Epoch: 14 Batch: 20 Loss: 10881.6630859375\n",
      "Epoch: 14 Batch: 40 Loss: 11030.88671875\n",
      "Epoch: 14 Batch: 60 Loss: 10738.4111328125\n",
      "Epoch: 14 Batch: 80 Loss: 10144.302734375\n",
      "Epoch: 15 Batch: 0 Loss: 10704.55078125\n",
      "Epoch: 15 Batch: 20 Loss: 10382.1123046875\n",
      "Epoch: 15 Batch: 40 Loss: 10616.0908203125\n",
      "Epoch: 15 Batch: 60 Loss: 10678.255859375\n",
      "Epoch: 15 Batch: 80 Loss: 11226.4443359375\n",
      "Epoch: 16 Batch: 0 Loss: 10515.029296875\n",
      "Epoch: 16 Batch: 20 Loss: 10204.8984375\n",
      "Epoch: 16 Batch: 40 Loss: 10386.3134765625\n",
      "Epoch: 16 Batch: 60 Loss: 10582.0888671875\n",
      "Epoch: 16 Batch: 80 Loss: 10283.232421875\n",
      "Epoch: 17 Batch: 0 Loss: 10855.0361328125\n",
      "Epoch: 17 Batch: 20 Loss: 10603.4375\n",
      "Epoch: 17 Batch: 40 Loss: 10297.015625\n",
      "Epoch: 17 Batch: 60 Loss: 11010.5302734375\n",
      "Epoch: 17 Batch: 80 Loss: 10486.380859375\n",
      "Epoch: 18 Batch: 0 Loss: 10245.8701171875\n",
      "Epoch: 18 Batch: 20 Loss: 10692.2998046875\n",
      "Epoch: 18 Batch: 40 Loss: 10362.35546875\n",
      "Epoch: 18 Batch: 60 Loss: 10908.630859375\n",
      "Epoch: 18 Batch: 80 Loss: 10426.2314453125\n",
      "Epoch: 19 Batch: 0 Loss: 10646.63671875\n",
      "Epoch: 19 Batch: 20 Loss: 11278.4482421875\n",
      "Epoch: 19 Batch: 40 Loss: 11155.4638671875\n",
      "Epoch: 19 Batch: 60 Loss: 10472.533203125\n",
      "Epoch: 19 Batch: 80 Loss: 10830.6875\n",
      "Epoch: 20 Batch: 0 Loss: 10697.806640625\n",
      "Epoch: 20 Batch: 20 Loss: 10444.970703125\n",
      "Epoch: 20 Batch: 40 Loss: 10679.697265625\n",
      "Epoch: 20 Batch: 60 Loss: 10714.091796875\n",
      "Epoch: 20 Batch: 80 Loss: 10927.9013671875\n",
      "Epoch: 21 Batch: 0 Loss: 10935.009765625\n",
      "Epoch: 21 Batch: 20 Loss: 10550.220703125\n",
      "Epoch: 21 Batch: 40 Loss: 10569.8017578125\n",
      "Epoch: 21 Batch: 60 Loss: 10696.57421875\n",
      "Epoch: 21 Batch: 80 Loss: 10475.3623046875\n",
      "Epoch: 22 Batch: 0 Loss: 9880.5263671875\n",
      "Epoch: 22 Batch: 20 Loss: 10302.3798828125\n",
      "Epoch: 22 Batch: 40 Loss: 10361.357421875\n",
      "Epoch: 22 Batch: 60 Loss: 10995.046875\n",
      "Epoch: 22 Batch: 80 Loss: 9894.1630859375\n",
      "Epoch: 23 Batch: 0 Loss: 10280.4716796875\n",
      "Epoch: 23 Batch: 20 Loss: 10244.7177734375\n",
      "Epoch: 23 Batch: 40 Loss: 10462.9931640625\n",
      "Epoch: 23 Batch: 60 Loss: 10200.7939453125\n",
      "Epoch: 23 Batch: 80 Loss: 10763.7900390625\n",
      "Epoch: 24 Batch: 0 Loss: 10515.90625\n",
      "Epoch: 24 Batch: 20 Loss: 10831.6875\n",
      "Epoch: 24 Batch: 40 Loss: 10210.9599609375\n",
      "Epoch: 24 Batch: 60 Loss: 10225.998046875\n",
      "Epoch: 24 Batch: 80 Loss: 10000.6376953125\n",
      "Epoch: 25 Batch: 0 Loss: 10784.4794921875\n",
      "Epoch: 25 Batch: 20 Loss: 10388.0673828125\n",
      "Epoch: 25 Batch: 40 Loss: 10650.626953125\n",
      "Epoch: 25 Batch: 60 Loss: 10377.6025390625\n",
      "Epoch: 25 Batch: 80 Loss: 10467.587890625\n",
      "Epoch: 26 Batch: 0 Loss: 10137.2236328125\n",
      "Epoch: 26 Batch: 20 Loss: 10473.7119140625\n",
      "Epoch: 26 Batch: 40 Loss: 10569.087890625\n",
      "Epoch: 26 Batch: 60 Loss: 10794.216796875\n",
      "Epoch: 26 Batch: 80 Loss: 11014.4833984375\n",
      "Epoch: 27 Batch: 0 Loss: 10508.54296875\n",
      "Epoch: 27 Batch: 20 Loss: 10914.7041015625\n",
      "Epoch: 27 Batch: 40 Loss: 11220.59375\n",
      "Epoch: 27 Batch: 60 Loss: 10419.4296875\n",
      "Epoch: 27 Batch: 80 Loss: 10316.478515625\n",
      "Epoch: 28 Batch: 0 Loss: 10785.7783203125\n",
      "Epoch: 28 Batch: 20 Loss: 10323.427734375\n",
      "Epoch: 28 Batch: 40 Loss: 10594.4345703125\n",
      "Epoch: 28 Batch: 60 Loss: 10054.201171875\n",
      "Epoch: 28 Batch: 80 Loss: 10544.6455078125\n",
      "Epoch: 29 Batch: 0 Loss: 10244.8896484375\n",
      "Epoch: 29 Batch: 20 Loss: 10578.7470703125\n",
      "Epoch: 29 Batch: 40 Loss: 10529.6962890625\n",
      "Epoch: 29 Batch: 60 Loss: 10688.0341796875\n",
      "Epoch: 29 Batch: 80 Loss: 10236.044921875\n"
     ]
    }
   ],
   "source": [
    "num_epochs = 30\n",
    "history = []\n",
    "val_history = []\n",
    "\n",
    "for epoch in range(num_epochs):\n",
    "    \n",
    "    # Training phase\n",
    "    \n",
    "    loss_epoch = []\n",
    "    \n",
    "    for b, (images, masks) in enumerate(train_loader):\n",
    "        images = images.cuda()\n",
    "        masks = masks.cuda()\n",
    "        pred_masks = model(images)\n",
    "        loss = criterion(pred_masks, masks)\n",
    "        loss.backward()\n",
    "        optimizer.step()\n",
    "        optimizer.zero_grad()\n",
    "        loss_epoch.append(loss.item())\n",
    "        if b%20 == 0:\n",
    "            print(f'Epoch: {epoch} Batch: {b} Loss: {loss}')\n",
    "    mean_loss_epoch = np.mean(loss_epoch)\n",
    "    history.append(mean_loss_epoch)\n",
    "    \n",
    "    # Validation Phase\n",
    "    \n",
    "    val_loss_epoch = []\n",
    "    \n",
    "    for b, (images, masks) in enumerate(val_loader):\n",
    "        images = images.cuda()\n",
    "        masks = masks.cuda()\n",
    "        pred_masks = model(images)\n",
    "        val_loss = criterion(pred_masks, masks)\n",
    "        \n",
    "        val_loss_epoch.append(val_loss.item())\n",
    "    \n",
    "    mean_val_loss = np.mean(val_loss_epoch)\n",
    "    history.append(loss)\n",
    "    val_history.append(mean_val_loss)\n",
    "    if len(val_history)>=3:\n",
    "        if (val_history[-1]>val_history[-2]) and (val_history[-1]>val_history[-3]) and (val_history[-1]>val_history[-4]):\n",
    "            break"
   ]
  },
  {
   "cell_type": "code",
   "execution_count": 12,
   "metadata": {},
   "outputs": [],
   "source": [
    "for image, mask in train_loader:\n",
    "    break"
   ]
  },
  {
   "cell_type": "code",
   "execution_count": 13,
   "metadata": {},
   "outputs": [
    {
     "data": {
      "text/plain": [
       "torch.Size([30, 3, 256, 256])"
      ]
     },
     "execution_count": 13,
     "metadata": {},
     "output_type": "execute_result"
    }
   ],
   "source": [
    "image.shape"
   ]
  },
  {
   "cell_type": "code",
   "execution_count": 14,
   "metadata": {},
   "outputs": [],
   "source": [
    "pred = model(image.cuda())"
   ]
  },
  {
   "cell_type": "code",
   "execution_count": 16,
   "metadata": {},
   "outputs": [
    {
     "data": {
      "text/plain": [
       "<matplotlib.image.AxesImage at 0x7f1f664106d8>"
      ]
     },
     "execution_count": 16,
     "metadata": {},
     "output_type": "execute_result"
    },
    {
     "data": {
      "image/png": "[encoded data removed]",
      "text/plain": [
       "<Figure size 432x288 with 1 Axes>"
      ]
     },
     "metadata": {
      "needs_background": "light"
     },
     "output_type": "display_data"
    }
   ],
   "source": [
    "plt.imshow(np.transpose(pred[15].cpu().detach().numpy(), (1, 2, 0)).astype(np.uint8))"
   ]
  },
  {
   "cell_type": "code",
   "execution_count": 17,
   "metadata": {},
   "outputs": [
    {
     "data": {
      "text/plain": [
       "<matplotlib.image.AxesImage at 0x7f1f663eff28>"
      ]
     },
     "execution_count": 17,
     "metadata": {},
     "output_type": "execute_result"
    },
    {
     "data": {
      "image/png": "[encoded data removed]",
      "text/plain": [
       "<Figure size 432x288 with 1 Axes>"
      ]
     },
     "metadata": {
      "needs_background": "light"
     },
     "output_type": "display_data"
    }
   ],
   "source": [
    "plt.imshow(np.transpose(mask[15].cpu().detach().numpy(), (1, 2, 0)).astype(np.uint8))"
   ]
  },
  {
   "cell_type": "code",
   "execution_count": 18,
   "metadata": {},
   "outputs": [
    {
     "data": {
      "text/plain": [
       "<matplotlib.image.AxesImage at 0x7f1f663cbef0>"
      ]
     },
     "execution_count": 18,
     "metadata": {},
     "output_type": "execute_result"
    },
    {
     "data": {
      "image/png": "[encoded data removed]",
      "text/plain": [
       "<Figure size 432x288 with 1 Axes>"
      ]
     },
     "metadata": {
      "needs_background": "light"
     },
     "output_type": "display_data"
    }
   ],
   "source": [
    "plt.imshow(np.transpose(image[15].cpu().detach().numpy(), (1, 2, 0)).astype(np.uint8))"
   ]
  },
  {
   "cell_type": "code",
   "execution_count": 19,
   "metadata": {},
   "outputs": [],
   "source": [
    "path = train_list[5]"
   ]
  },
  {
   "cell_type": "code",
   "execution_count": 20,
   "metadata": {},
   "outputs": [],
   "source": [
    "image, mask = load_img(path)"
   ]
  },
  {
   "cell_type": "code",
   "execution_count": 23,
   "metadata": {},
   "outputs": [
    {
     "data": {
      "text/plain": [
       "torch.Size([3, 256, 256])"
      ]
     },
     "execution_count": 23,
     "metadata": {},
     "output_type": "execute_result"
    }
   ],
   "source": [
    "mask.shape"
   ]
  },
  {
   "cell_type": "code",
   "execution_count": 22,
   "metadata": {},
   "outputs": [],
   "source": [
    "from sklearn.cluster import KMeans\n",
    "kmeans = KMeans(init=\"random\",\n",
    "n_clusters=30,\n",
    "n_init=10,\n",
    "max_iter=300,\n",
    "random_state=42\n",
    ")"
   ]
  },
  {
   "cell_type": "code",
   "execution_count": 25,
   "metadata": {},
   "outputs": [
    {
     "data": {
      "text/plain": [
       "KMeans(algorithm='auto', copy_x=True, init='random', max_iter=300,\n",
       "       n_clusters=30, n_init=10, n_jobs=None, precompute_distances='auto',\n",
       "       random_state=42, tol=0.0001, verbose=0)"
      ]
     },
     "execution_count": 25,
     "metadata": {},
     "output_type": "execute_result"
    }
   ],
   "source": [
    "kmeans.fit(np.transpose(mask.numpy(), (1,2,0)).reshape(-1,3))"
   ]
  },
  {
   "cell_type": "code",
   "execution_count": 26,
   "metadata": {},
   "outputs": [
    {
     "data": {
      "text/plain": [
       "array([[127.2332   ,  63.114124 , 128.01851  ],\n",
       "       [186.08572  , 144.97144  , 198.05713  ],\n",
       "       [ 33.519287 , 204.89655  , 209.51656  ],\n",
       "       [131.96666  ,   4.1332016, 136.95555  ],\n",
       "       [117.367256 ,  68.32079  , 118.85895  ],\n",
       "       [153.67192  ,  92.18185  , 109.79866  ],\n",
       "       [177.48422  , 130.38312  ,  72.02141  ],\n",
       "       [131.7276   , 155.46649  , 148.19804  ],\n",
       "       [131.97037  ,   2.526497 ,   6.726799 ],\n",
       "       [ 50.265766 , 102.93418  ,  87.95682  ],\n",
       "       [ 86.05846  ,  34.852253 ,  77.85231  ],\n",
       "       [ 70.16141  ,  70.53185  ,  70.22545  ],\n",
       "       [ 33.62169  ,  14.376236 , 111.481926 ],\n",
       "       [231.67148  ,  35.47376  , 242.97052  ],\n",
       "       [  2.8449402,   2.5982132,   3.0489807],\n",
       "       [189.9396   ,  59.59549  , 200.37053  ],\n",
       "       [ 33.996002 , 141.56851  , 106.66     ],\n",
       "       [ 44.957153 ,  72.24347  ,  63.37244  ],\n",
       "       [213.05983  ,  50.521606 , 224.50229  ],\n",
       "       [ 57.502975 , 136.46945  , 110.90423  ],\n",
       "       [143.97249  ,  51.5294   , 143.32487  ],\n",
       "       [ 94.71376  , 123.72178  , 101.06817  ],\n",
       "       [128.67348  ,  94.578255 , 164.00684  ],\n",
       "       [ 33.616844 ,  11.363441 ,  25.744965 ],\n",
       "       [ 15.119476 ,  68.68898  ,  99.98842  ],\n",
       "       [188.32141  , 226.74991  , 187.26782  ],\n",
       "       [ 84.73378  , 146.40851  , 134.99309  ],\n",
       "       [167.11061  ,  52.919044 , 169.58214  ],\n",
       "       [152.93877  , 239.09169  , 160.13263  ],\n",
       "       [134.1453   , 123.66854  ,  81.371735 ]], dtype=float32)"
      ]
     },
     "execution_count": 26,
     "metadata": {},
     "output_type": "execute_result"
    }
   ],
   "source": [
    "kmeans.cluster_centers_"
   ]
  },
  {
   "cell_type": "code",
   "execution_count": 28,
   "metadata": {},
   "outputs": [
    {
     "ename": "AttributeError",
     "evalue": "'numpy.ndarray' object has no attribute 'index'",
     "output_type": "error",
     "traceback": [
      "\u001b[0;31m---------------------------------------------------------------------------\u001b[0m",
      "\u001b[0;31mAttributeError\u001b[0m                            Traceback (most recent call last)",
      "\u001b[0;32m<ipython-input-28-6aa51cc6bd1d>\u001b[0m in \u001b[0;36m<module>\u001b[0;34m\u001b[0m\n\u001b[1;32m      1\u001b[0m \u001b[0mcluster_map\u001b[0m \u001b[0;34m=\u001b[0m \u001b[0mpd\u001b[0m\u001b[0;34m.\u001b[0m\u001b[0mDataFrame\u001b[0m\u001b[0;34m(\u001b[0m\u001b[0;34m)\u001b[0m\u001b[0;34m\u001b[0m\u001b[0;34m\u001b[0m\u001b[0m\n\u001b[0;32m----> 2\u001b[0;31m \u001b[0mcluster_map\u001b[0m\u001b[0;34m[\u001b[0m\u001b[0;34m'data_index'\u001b[0m\u001b[0;34m]\u001b[0m \u001b[0;34m=\u001b[0m \u001b[0mnp\u001b[0m\u001b[0;34m.\u001b[0m\u001b[0mtranspose\u001b[0m\u001b[0;34m(\u001b[0m\u001b[0mmask\u001b[0m\u001b[0;34m.\u001b[0m\u001b[0mnumpy\u001b[0m\u001b[0;34m(\u001b[0m\u001b[0;34m)\u001b[0m\u001b[0;34m,\u001b[0m \u001b[0;34m(\u001b[0m\u001b[0;36m1\u001b[0m\u001b[0;34m,\u001b[0m\u001b[0;36m2\u001b[0m\u001b[0;34m,\u001b[0m\u001b[0;36m0\u001b[0m\u001b[0;34m)\u001b[0m\u001b[0;34m)\u001b[0m\u001b[0;34m.\u001b[0m\u001b[0mreshape\u001b[0m\u001b[0;34m(\u001b[0m\u001b[0;34m-\u001b[0m\u001b[0;36m1\u001b[0m\u001b[0;34m,\u001b[0m\u001b[0;36m3\u001b[0m\u001b[0;34m)\u001b[0m\u001b[0;34m.\u001b[0m\u001b[0mindex\u001b[0m\u001b[0;34m.\u001b[0m\u001b[0mvalues\u001b[0m\u001b[0;34m\u001b[0m\u001b[0;34m\u001b[0m\u001b[0m\n\u001b[0m\u001b[1;32m      3\u001b[0m \u001b[0mcluster_map\u001b[0m\u001b[0;34m[\u001b[0m\u001b[0;34m'cluster'\u001b[0m\u001b[0;34m]\u001b[0m \u001b[0;34m=\u001b[0m \u001b[0mkmeans\u001b[0m\u001b[0;34m.\u001b[0m\u001b[0mlabels_\u001b[0m\u001b[0;34m\u001b[0m\u001b[0;34m\u001b[0m\u001b[0m\n",
      "\u001b[0;31mAttributeError\u001b[0m: 'numpy.ndarray' object has no attribute 'index'"
     ]
    }
   ],
   "source": [
    "\n",
    "\n",
    "cluster_map = pd.DataFrame()\n",
    "cluster_map['data_index'] = np.transpose(mask.numpy(), (1,\n",
    "cluster_map['cluster'] = kmeans.labels_"
   ]
  },
  {
   "cell_type": "code",
   "execution_count": 29,
   "metadata": {},
   "outputs": [
    {
     "data": {
      "text/plain": [
       "array([14, 14, 14, ..., 23, 23, 23], dtype=int32)"
      ]
     },
     "execution_count": 29,
     "metadata": {},
     "output_type": "execute_result"
    }
   ],
   "source": [
    "kmeans.labels_"
   ]
  },
  {
   "cell_type": "code",
   "execution_count": 30,
   "metadata": {},
   "outputs": [],
   "source": [
    " mask = np.transpose(mask.numpy(), (1,2,0))"
   ]
  },
  {
   "cell_type": "code",
   "execution_count": 31,
   "metadata": {},
   "outputs": [
    {
     "data": {
      "text/plain": [
       "(256, 256, 3)"
      ]
     },
     "execution_count": 31,
     "metadata": {},
     "output_type": "execute_result"
    }
   ],
   "source": [
    "mask.shape"
   ]
  },
  {
   "cell_type": "code",
   "execution_count": 32,
   "metadata": {},
   "outputs": [],
   "source": [
    "k = 0\n",
    "for i in range(256):\n",
    "    for j in range(256):\n",
    "        mask[i][j] = kmeans.labels_[k]\n",
    "        k+=1"
   ]
  },
  {
   "cell_type": "code",
   "execution_count": 33,
   "metadata": {},
   "outputs": [
    {
     "data": {
      "text/plain": [
       "(256, 256, 3)"
      ]
     },
     "execution_count": 33,
     "metadata": {},
     "output_type": "execute_result"
    }
   ],
   "source": [
    "mask.shape"
   ]
  },
  {
   "cell_type": "code",
   "execution_count": 34,
   "metadata": {},
   "outputs": [
    {
     "data": {
      "text/plain": [
       "array([[[14., 14., 14.],\n",
       "        [14., 14., 14.],\n",
       "        [14., 14., 14.],\n",
       "        ...,\n",
       "        [14., 14., 14.],\n",
       "        [23., 23., 23.],\n",
       "        [14., 14., 14.]],\n",
       "\n",
       "       [[23., 23., 23.],\n",
       "        [ 9.,  9.,  9.],\n",
       "        [ 9.,  9.,  9.],\n",
       "        ...,\n",
       "        [17., 17., 17.],\n",
       "        [17., 17., 17.],\n",
       "        [23., 23., 23.]],\n",
       "\n",
       "       [[14., 14., 14.],\n",
       "        [19., 19., 19.],\n",
       "        [26., 26., 26.],\n",
       "        ...,\n",
       "        [11., 11., 11.],\n",
       "        [11., 11., 11.],\n",
       "        [23., 23., 23.]],\n",
       "\n",
       "       ...,\n",
       "\n",
       "       [[23., 23., 23.],\n",
       "        [ 4.,  4.,  4.],\n",
       "        [ 4.,  4.,  4.],\n",
       "        ...,\n",
       "        [15., 15., 15.],\n",
       "        [15., 15., 15.],\n",
       "        [ 3.,  3.,  3.]],\n",
       "\n",
       "       [[23., 23., 23.],\n",
       "        [11., 11., 11.],\n",
       "        [10., 10., 10.],\n",
       "        ...,\n",
       "        [20., 20., 20.],\n",
       "        [ 0.,  0.,  0.],\n",
       "        [10., 10., 10.]],\n",
       "\n",
       "       [[14., 14., 14.],\n",
       "        [23., 23., 23.],\n",
       "        [14., 14., 14.],\n",
       "        ...,\n",
       "        [23., 23., 23.],\n",
       "        [23., 23., 23.],\n",
       "        [23., 23., 23.]]], dtype=float32)"
      ]
     },
     "execution_count": 34,
     "metadata": {},
     "output_type": "execute_result"
    }
   ],
   "source": [
    "mask"
   ]
  },
  {
   "cell_type": "code",
   "execution_count": 35,
   "metadata": {},
   "outputs": [],
   "source": [
    "mask_1 = kmeans.labels_"
   ]
  },
  {
   "cell_type": "code",
   "execution_count": 39,
   "metadata": {},
   "outputs": [],
   "source": [
    "mask_1 = mask_1.reshape(256, 256)"
   ]
  },
  {
   "cell_type": "code",
   "execution_count": 40,
   "metadata": {},
   "outputs": [
    {
     "data": {
      "text/plain": [
       "(256, 256)"
      ]
     },
     "execution_count": 40,
     "metadata": {},
     "output_type": "execute_result"
    }
   ],
   "source": [
    "mask_1.shape"
   ]
  },
  {
   "cell_type": "code",
   "execution_count": 41,
   "metadata": {},
   "outputs": [
    {
     "data": {
      "text/plain": [
       "<matplotlib.image.AxesImage at 0x7f1f080887f0>"
      ]
     },
     "execution_count": 41,
     "metadata": {},
     "output_type": "execute_result"
    },
    {
     "data": {
      "image/png": "[encoded data removed]",
      "text/plain": [
       "<Figure size 432x288 with 1 Axes>"
      ]
     },
     "metadata": {
      "needs_background": "light"
     },
     "output_type": "display_data"
    }
   ],
   "source": [
    "plt.imshow(mask_1)"
   ]
  },
  {
   "cell_type": "code",
   "execution_count": null,
   "metadata": {},
   "outputs": [],
   "source": []
  }
 ],
 "metadata": {
  "kernelspec": {
   "display_name": "Python 3",
   "language": "python",
   "name": "python3"
  },
  "language_info": {
   "codemirror_mode": {
    "name": "ipython",
    "version": 3
   },
   "file_extension": ".py",
   "mimetype": "text/x-python",
   "name": "python",
   "nbconvert_exporter": "python",
   "pygments_lexer": "ipython3",
   "version": "3.6.10"
  }
 },
 "nbformat": 4,
 "nbformat_minor": 4
}
