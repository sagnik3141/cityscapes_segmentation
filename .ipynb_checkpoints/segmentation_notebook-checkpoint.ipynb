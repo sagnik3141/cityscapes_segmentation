{
 "cells": [
  {
   "cell_type": "code",
   "execution_count": 1,
   "metadata": {},
   "outputs": [],
   "source": [
    "import torch\n",
    "import torch.nn as nn\n",
    "import torch.nn.functional as F\n",
    "from torch.utils.data import DataLoader\n",
    "from torchvision import datasets, transforms\n",
    "from torchvision.utils import make_grid\n",
    "\n",
    "import numpy as np\n",
    "import pandas as pd\n",
    "from sklearn.metrics import confusion_matrix\n",
    "import matplotlib.pyplot as plt\n",
    "%matplotlib inline\n",
    "\n",
    "import os\n",
    "from PIL import Image\n",
    "from IPython.display import display\n",
    "\n",
    "from torch.utils import data\n",
    "\n",
    "import cv2\n",
    "from pathlib import Path\n",
    "from torch.nn import functional as F"
   ]
  },
  {
   "cell_type": "code",
   "execution_count": null,
   "metadata": {},
   "outputs": [],
   "source": [
    "! ls"
   ]
  },
  {
   "cell_type": "code",
   "execution_count": null,
   "metadata": {},
   "outputs": [],
   "source": [
    "! ls data"
   ]
  },
  {
   "cell_type": "code",
   "execution_count": null,
   "metadata": {},
   "outputs": [],
   "source": [
    "! ls data/cityscapes_data"
   ]
  },
  {
   "cell_type": "code",
   "execution_count": 2,
   "metadata": {},
   "outputs": [],
   "source": [
    "train_list = []\n",
    "for filename in os.listdir('data/cityscapes_data/train'):\n",
    "    if filename.endswith(\".jpg\"):\n",
    "        train_list.append(os.path.join('data/cityscapes_data/train', filename))"
   ]
  },
  {
   "cell_type": "code",
   "execution_count": null,
   "metadata": {},
   "outputs": [],
   "source": [
    "train_list"
   ]
  },
  {
   "cell_type": "code",
   "execution_count": 3,
   "metadata": {},
   "outputs": [],
   "source": [
    "val_list = []\n",
    "for filename in os.listdir('data/cityscapes_data/val'):\n",
    "    if filename.endswith(\".jpg\"):\n",
    "        val_list.append(os.path.join('data/cityscapes_data/val', filename))"
   ]
  },
  {
   "cell_type": "code",
   "execution_count": null,
   "metadata": {},
   "outputs": [],
   "source": [
    "val_list"
   ]
  },
  {
   "cell_type": "code",
   "execution_count": null,
   "metadata": {},
   "outputs": [],
   "source": [
    "img_test = cv2.imread(train_list[23])\n",
    "plt.imshow(img_test)"
   ]
  },
  {
   "cell_type": "code",
   "execution_count": null,
   "metadata": {},
   "outputs": [],
   "source": [
    "img_test.shape"
   ]
  },
  {
   "cell_type": "code",
   "execution_count": 4,
   "metadata": {},
   "outputs": [],
   "source": [
    "def split_img(path):\n",
    "    img_mask = cv2.imread(path)\n",
    "    img = img_mask[:,:256]\n",
    "    mask = img_mask[:,256:]\n",
    "    return (img, mask)"
   ]
  },
  {
   "cell_type": "code",
   "execution_count": null,
   "metadata": {},
   "outputs": [],
   "source": [
    "img, mask = load_img(train_list[23])"
   ]
  },
  {
   "cell_type": "code",
   "execution_count": null,
   "metadata": {},
   "outputs": [],
   "source": [
    "plt.imshow(img)"
   ]
  },
  {
   "cell_type": "code",
   "execution_count": null,
   "metadata": {},
   "outputs": [],
   "source": [
    "plt.imshow(mask)"
   ]
  },
  {
   "cell_type": "code",
   "execution_count": null,
   "metadata": {},
   "outputs": [],
   "source": []
  },
  {
   "cell_type": "code",
   "execution_count": 5,
   "metadata": {},
   "outputs": [],
   "source": [
    "class UNet(nn.Module):\n",
    "    \n",
    "    def __init__(self):\n",
    "        super().__init__()\n",
    "        self.conv1 = nn.Conv2d(3, 16, 3, 1, (1,1))\n",
    "        self.bn1 = nn.BatchNorm2d(16)\n",
    "        self.conv2 = nn.Conv2d(16, 16, 3, 1, (1,1))\n",
    "        self.bn2 = nn.BatchNorm2d(16)\n",
    "        self.conv3 = nn.Conv2d(16, 32, 3, 1, (1,1))\n",
    "        self.bn3 = nn.BatchNorm2d(32)\n",
    "        self.conv4 = nn.Conv2d(32, 32, 3, 1, (1,1))\n",
    "        self.bn4 = nn.BatchNorm2d(32)\n",
    "        self.conv5 = nn.Conv2d(32, 64, 3, 1, (1,1))\n",
    "        self.bn5 = nn.BatchNorm2d(64)\n",
    "        self.conv6 = nn.Conv2d(64, 64, 3, 1, (1,1))\n",
    "        self.bn6 = nn.BatchNorm2d(64)\n",
    "        self.conv7 = nn.Conv2d(64, 128, 3, 1, (1,1))\n",
    "        self.bn7 = nn.BatchNorm2d(128)\n",
    "        self.conv8 = nn.Conv2d(128, 128, 3, 1, (1,1))\n",
    "        self.bn8 = nn.BatchNorm2d(128)\n",
    "        self.conv9 = nn.Conv2d(128, 256, 3, 1, (1,1))\n",
    "        self.bn9 = nn.BatchNorm2d(256)\n",
    "        self.conv10 = nn.Conv2d(256, 256, 3, 1, (1,1))\n",
    "        self.bn10 = nn.BatchNorm2d(256)\n",
    "        self.tconv1 = nn.ConvTranspose2d(256, 128, 2, 2)\n",
    "        self.conv11 = nn.Conv2d(256, 128, 3, 1, (1,1))\n",
    "        self.bn11 = nn.BatchNorm2d(128)\n",
    "        self.conv12 = nn.Conv2d(128, 128, 3, 1, (1,1))\n",
    "        self.bn12 = nn.BatchNorm2d(128)\n",
    "        self.tconv2 = nn.ConvTranspose2d(128, 64, 2, 2)\n",
    "        self.conv13 = nn.Conv2d(128, 64, 3, 1, (1,1))\n",
    "        self.bn13 = nn.BatchNorm2d(64)\n",
    "        self.conv14 = nn.Conv2d(64, 64, 3, 1, (1,1))\n",
    "        self.bn14 = nn.BatchNorm2d(64)\n",
    "        self.tconv3 = nn.ConvTranspose2d(64, 32, 2, 2)\n",
    "        self.conv15 = nn.Conv2d(64, 32, 3, 1, (1,1))\n",
    "        self.bn15 = nn.BatchNorm2d(32)\n",
    "        self.conv16 = nn.Conv2d(32, 32, 3, 1, (1,1))\n",
    "        self.bn16 = nn.BatchNorm2d(32)\n",
    "        self.tconv4 = nn.ConvTranspose2d(32, 16, 2, 2)\n",
    "        self.conv17 = nn.Conv2d(32, 16, 3, 1, (1,1))\n",
    "        self.bn17 = nn.BatchNorm2d(16)\n",
    "        self.conv18 = nn.Conv2d(16, 16, 3, 1, (1,1))\n",
    "        self.bn18 = nn.BatchNorm2d(16)\n",
    "        self.conv19 = nn.Conv2d(16, 3, 1, 1)\n",
    "        self.bn19 = nn.BatchNorm2d(3)\n",
    "    def forward(self, X):\n",
    "        c1 = self.conv1(X)\n",
    "        c1 = self.bn1(c1)\n",
    "        c1 = F.relu(c1)\n",
    "        c1 = self.conv2(c1)\n",
    "        c1 = self.bn2(c1)\n",
    "        c1 = F.relu(c1)\n",
    "        p1 = F.max_pool2d(c1, 2, 2)\n",
    "        c2 = self.conv3(p1)\n",
    "        c2 = self.bn3(c2)\n",
    "        c2 = F.relu(c2)\n",
    "        c2 = self.conv4(c2)\n",
    "        c2 = self.bn4(c2)\n",
    "        c2 = F.relu(c2)\n",
    "        p2 = F.max_pool2d(c2, 2, 2)\n",
    "        c3 = self.conv5(p2)\n",
    "        c3 = self.bn5(c3)\n",
    "        c3 = F.relu(c3)\n",
    "        c3 = self.conv6(c3)\n",
    "        c3 = self.bn6(c3)\n",
    "        c3 = F.relu(c3)\n",
    "        p3 = F.max_pool2d(c3, 2, 2)\n",
    "        c4 = self.conv7(p3)\n",
    "        c4 = self.bn7(c4)\n",
    "        c4 = F.relu(c4)\n",
    "        c4 = self.conv8(c4)\n",
    "        c4 = self.bn8(c4)\n",
    "        c4 = F.relu(c4)\n",
    "        p4 = F.max_pool2d(c4, 2, 2)\n",
    "        c5 = self.conv9(p4)\n",
    "        c5 = self.bn9(c5)\n",
    "        c5 = F.relu(c5)\n",
    "        c5 = self.conv10(c5)\n",
    "        c5 = self.bn10(c5)\n",
    "        c5 = F.relu(c5)\n",
    "        u6 = self.tconv1(c5)\n",
    "        u6 = torch.cat((u6,c4),1)\n",
    "        c6 = self.conv11(u6)\n",
    "        c6 = self.bn11(c6)\n",
    "        c6 = F.relu(c6)\n",
    "        c6 = self.conv12(c6)\n",
    "        c6 = self.bn12(c6)\n",
    "        c6 = F.relu(c6)\n",
    "        u7 = self.tconv2(c6)\n",
    "        u7 = torch.cat((u7,c3),1)\n",
    "        c7 = self.conv13(u7)\n",
    "        c7 = self.bn13(c7)\n",
    "        c7 = F.relu(c7)\n",
    "        c7 = self.conv14(c7)\n",
    "        c7 = self.bn14(c7)\n",
    "        c7 = F.relu(c7)\n",
    "        u8 = self.tconv3(c7)\n",
    "        u8 = torch.cat((u8,c2),1)\n",
    "        c8 = self.conv15(u8)\n",
    "        c8 = self.bn15(c8)\n",
    "        c8 = F.relu(c8)\n",
    "        c8 = self.conv16(c8)\n",
    "        c8 = self.bn16(c8)\n",
    "        c8 = F.relu(c8)\n",
    "        u9 = self.tconv4(c8)\n",
    "        u9 = torch.cat((u9,c1),1)\n",
    "        c9 = self.conv17(u9)\n",
    "        c9 = self.bn17(c9)\n",
    "        c9 = F.relu(c9)\n",
    "        c9 = self.conv18(c9)\n",
    "        c9 = self.bn18(c9)\n",
    "        c9 = F.relu(c9)\n",
    "        c10 = self.conv19(c9)\n",
    "        c10 = self.bn19(c10)\n",
    "        return c10"
   ]
  },
  {
   "cell_type": "code",
   "execution_count": null,
   "metadata": {},
   "outputs": [],
   "source": [
    "test_model = UNet()"
   ]
  },
  {
   "cell_type": "code",
   "execution_count": null,
   "metadata": {},
   "outputs": [],
   "source": [
    "img = img[np.newaxis, :,:,:]"
   ]
  },
  {
   "cell_type": "code",
   "execution_count": null,
   "metadata": {},
   "outputs": [],
   "source": [
    "img.shape"
   ]
  },
  {
   "cell_type": "code",
   "execution_count": null,
   "metadata": {},
   "outputs": [],
   "source": [
    "img = np.transpose(img, (0, 3, 1, 2))"
   ]
  },
  {
   "cell_type": "code",
   "execution_count": null,
   "metadata": {},
   "outputs": [],
   "source": [
    "img.shape"
   ]
  },
  {
   "cell_type": "code",
   "execution_count": null,
   "metadata": {},
   "outputs": [],
   "source": [
    "img"
   ]
  },
  {
   "cell_type": "code",
   "execution_count": null,
   "metadata": {},
   "outputs": [],
   "source": [
    "img_pred = test_model(torch.from_numpy(img).float())"
   ]
  },
  {
   "cell_type": "code",
   "execution_count": null,
   "metadata": {},
   "outputs": [],
   "source": [
    "img_pred.shape"
   ]
  },
  {
   "cell_type": "code",
   "execution_count": null,
   "metadata": {},
   "outputs": [],
   "source": [
    "def create_cityscapes_label_colormap():\n",
    "    colormap = np.zeros((19, 3), dtype=np.uint8)\n",
    "    colormap[0] = [128, 64, 128]\n",
    "    colormap[1] = [244, 35, 232]\n",
    "    colormap[2] = [70, 70, 70]\n",
    "    colormap[3] = [102, 102, 156]\n",
    "    colormap[4] = [190, 153, 153]\n",
    "    colormap[5] = [153, 153, 153]\n",
    "    colormap[6] = [250, 170, 30]\n",
    "    colormap[7] = [220, 220, 0]\n",
    "    colormap[8] = [107, 142, 35]\n",
    "    colormap[9] = [152, 251, 152]\n",
    "    colormap[10] = [70, 130, 180]\n",
    "    colormap[11] = [220, 20, 60]\n",
    "    colormap[12] = [255, 0, 0]\n",
    "    colormap[13] = [0, 0, 142]\n",
    "    colormap[14] = [0, 0, 70]\n",
    "    colormap[15] = [0, 60, 100]\n",
    "    colormap[16] = [0, 80, 100]\n",
    "    colormap[17] = [0, 0, 230]\n",
    "    colormap[18] = [119, 11, 32]\n",
    "    return colormap"
   ]
  },
  {
   "cell_type": "code",
   "execution_count": null,
   "metadata": {},
   "outputs": [],
   "source": [
    "colormap = create_cityscapes_label_colormap()"
   ]
  },
  {
   "cell_type": "code",
   "execution_count": null,
   "metadata": {},
   "outputs": [],
   "source": [
    "mask[3][12]"
   ]
  },
  {
   "cell_type": "code",
   "execution_count": null,
   "metadata": {},
   "outputs": [],
   "source": [
    "mask = torch.from_numpy(mask)"
   ]
  },
  {
   "cell_type": "code",
   "execution_count": null,
   "metadata": {},
   "outputs": [],
   "source": [
    "mask.shape"
   ]
  },
  {
   "cell_type": "code",
   "execution_count": null,
   "metadata": {},
   "outputs": [],
   "source": [
    "mask = torch.nn.functional.one_hot(mask)"
   ]
  },
  {
   "cell_type": "code",
   "execution_count": null,
   "metadata": {},
   "outputs": [],
   "source": [
    "plt.imshow(mask)"
   ]
  },
  {
   "cell_type": "code",
   "execution_count": null,
   "metadata": {},
   "outputs": [],
   "source": [
    "mask.shape"
   ]
  },
  {
   "cell_type": "code",
   "execution_count": null,
   "metadata": {},
   "outputs": [],
   "source": [
    "mask[255][128]"
   ]
  },
  {
   "cell_type": "code",
   "execution_count": null,
   "metadata": {},
   "outputs": [],
   "source": [
    "classes_list = []\n",
    "for path in train_list:\n",
    "    img, mask = load_img(path)\n",
    "    for i in range(256):\n",
    "        for j in range(256):\n",
    "            classes_list.append(mask[i][j])"
   ]
  },
  {
   "cell_type": "code",
   "execution_count": null,
   "metadata": {},
   "outputs": [],
   "source": [
    "classes_set = [1,2,3,4,4,4,4,4,4]"
   ]
  },
  {
   "cell_type": "code",
   "execution_count": null,
   "metadata": {},
   "outputs": [],
   "source": [
    "3 in set(classes_set)"
   ]
  },
  {
   "cell_type": "code",
   "execution_count": null,
   "metadata": {},
   "outputs": [],
   "source": [
    "a = 1"
   ]
  },
  {
   "cell_type": "code",
   "execution_count": null,
   "metadata": {},
   "outputs": [],
   "source": [
    "b = np.array([1,2,3])"
   ]
  },
  {
   "cell_type": "code",
   "execution_count": null,
   "metadata": {},
   "outputs": [],
   "source": [
    "(a==b)"
   ]
  },
  {
   "cell_type": "code",
   "execution_count": null,
   "metadata": {},
   "outputs": [],
   "source": [
    "l = [1,2,3]"
   ]
  },
  {
   "cell_type": "code",
   "execution_count": null,
   "metadata": {},
   "outputs": [],
   "source": [
    "l"
   ]
  },
  {
   "cell_type": "code",
   "execution_count": null,
   "metadata": {},
   "outputs": [],
   "source": [
    "a = [1,2,3]"
   ]
  },
  {
   "cell_type": "code",
   "execution_count": null,
   "metadata": {},
   "outputs": [],
   "source": [
    "l==a"
   ]
  },
  {
   "cell_type": "code",
   "execution_count": null,
   "metadata": {},
   "outputs": [],
   "source": [
    "mask = mask.tolist()"
   ]
  },
  {
   "cell_type": "code",
   "execution_count": null,
   "metadata": {},
   "outputs": [],
   "source": [
    "classes_list = []\n",
    "for path in train_list:\n",
    "    img, mask = load_img(path)\n",
    "    mask = mask.tolist()\n",
    "    for i in range(256):\n",
    "        for j in range(256):\n",
    "            if mask[i][j] not in classes_list:\n",
    "                classes_list.append(mask[i][j])\n",
    "    print(len(classes_list))"
   ]
  },
  {
   "cell_type": "code",
   "execution_count": null,
   "metadata": {},
   "outputs": [],
   "source": [
    "classes_list"
   ]
  },
  {
   "cell_type": "code",
   "execution_count": null,
   "metadata": {},
   "outputs": [],
   "source": [
    "img, mask = split_img(train_list[5])"
   ]
  },
  {
   "cell_type": "code",
   "execution_count": null,
   "metadata": {},
   "outputs": [],
   "source": [
    "img.shape"
   ]
  },
  {
   "cell_type": "code",
   "execution_count": 6,
   "metadata": {},
   "outputs": [],
   "source": [
    "def load_img(path):\n",
    "    img, mask = split_img(path)\n",
    "    img = np.transpose(img, (2, 0, 1))\n",
    "    img = torch.from_numpy(img).float()\n",
    "    mask = np.transpose(mask, (2, 0, 1))\n",
    "    mask = torch.from_numpy(mask).float()\n",
    "    return img, mask"
   ]
  },
  {
   "cell_type": "code",
   "execution_count": 7,
   "metadata": {},
   "outputs": [],
   "source": [
    "class CityscapesDataset(data.Dataset):\n",
    "    \n",
    "    def __init__(self, path_list):\n",
    "        self.path_list = path_list\n",
    "        \n",
    "    def __len__(self):\n",
    "        return len(self.path_list)\n",
    "    \n",
    "    def __getitem__(self, index):\n",
    "        img, mask = load_img(self.path_list[index])\n",
    "        return (img, mask)"
   ]
  },
  {
   "cell_type": "code",
   "execution_count": 8,
   "metadata": {},
   "outputs": [],
   "source": [
    "dataset = CityscapesDataset(train_list)\n",
    "train_loader = DataLoader(dataset, batch_size = 30, shuffle = True, pin_memory = True)\n",
    "dataset_val = CityscapesDataset(val_list)\n",
    "val_loader = DataLoader(dataset_val, batch_size = 30, pin_memory = True)"
   ]
  },
  {
   "cell_type": "code",
   "execution_count": null,
   "metadata": {},
   "outputs": [],
   "source": [
    "for image, mask in train_loader:\n",
    "    break"
   ]
  },
  {
   "cell_type": "code",
   "execution_count": null,
   "metadata": {},
   "outputs": [],
   "source": [
    "img, mask = load_img(train_list[34])"
   ]
  },
  {
   "cell_type": "code",
   "execution_count": null,
   "metadata": {},
   "outputs": [],
   "source": [
    "img.shape"
   ]
  },
  {
   "cell_type": "code",
   "execution_count": null,
   "metadata": {},
   "outputs": [],
   "source": [
    "pred = test_model(image)"
   ]
  },
  {
   "cell_type": "code",
   "execution_count": null,
   "metadata": {},
   "outputs": [],
   "source": [
    "pred.shape"
   ]
  },
  {
   "cell_type": "code",
   "execution_count": null,
   "metadata": {},
   "outputs": [],
   "source": [
    "a = [1,2,3,4,5]\n",
    "avg = np.mean(a)\n",
    "avg"
   ]
  },
  {
   "cell_type": "code",
   "execution_count": 9,
   "metadata": {},
   "outputs": [],
   "source": [
    "model = UNet()\n",
    "model = model.cuda()"
   ]
  },
  {
   "cell_type": "code",
   "execution_count": 10,
   "metadata": {},
   "outputs": [],
   "source": [
    "criterion = nn.MSELoss()\n",
    "optimizer = torch.optim.Adam(model.parameters(), lr = 0.001)"
   ]
  },
  {
   "cell_type": "code",
   "execution_count": 11,
   "metadata": {},
   "outputs": [
    {
     "name": "stdout",
     "output_type": "stream",
     "text": [
      "Epoch: 0 Batch: 0 Loss: 11103.0673828125\n",
      "Epoch: 0 Batch: 20 Loss: 12033.3671875\n",
      "Epoch: 0 Batch: 40 Loss: 11126.6318359375\n",
      "Epoch: 0 Batch: 60 Loss: 10984.7373046875\n",
      "Epoch: 0 Batch: 80 Loss: 10790.0029296875\n",
      "Epoch: 1 Batch: 0 Loss: 11084.8046875\n",
      "Epoch: 1 Batch: 20 Loss: 10738.6630859375\n",
      "Epoch: 1 Batch: 40 Loss: 11012.3505859375\n",
      "Epoch: 1 Batch: 60 Loss: 11685.9609375\n",
      "Epoch: 1 Batch: 80 Loss: 10561.4951171875\n",
      "Epoch: 2 Batch: 0 Loss: 10868.3515625\n",
      "Epoch: 2 Batch: 20 Loss: 10769.6005859375\n",
      "Epoch: 2 Batch: 40 Loss: 11251.8193359375\n",
      "Epoch: 2 Batch: 60 Loss: 11303.26171875\n",
      "Epoch: 2 Batch: 80 Loss: 10935.470703125\n",
      "Epoch: 3 Batch: 0 Loss: 10800.291015625\n",
      "Epoch: 3 Batch: 20 Loss: 10689.7822265625\n",
      "Epoch: 3 Batch: 40 Loss: 11103.248046875\n",
      "Epoch: 3 Batch: 60 Loss: 11062.8115234375\n",
      "Epoch: 3 Batch: 80 Loss: 10470.947265625\n",
      "Epoch: 4 Batch: 0 Loss: 10738.728515625\n",
      "Epoch: 4 Batch: 20 Loss: 10672.3486328125\n",
      "Epoch: 4 Batch: 40 Loss: 10503.5419921875\n",
      "Epoch: 4 Batch: 60 Loss: 11581.7802734375\n",
      "Epoch: 4 Batch: 80 Loss: 10705.1220703125\n",
      "Epoch: 5 Batch: 0 Loss: 10891.955078125\n",
      "Epoch: 5 Batch: 20 Loss: 10737.748046875\n",
      "Epoch: 5 Batch: 40 Loss: 11047.783203125\n",
      "Epoch: 5 Batch: 60 Loss: 10602.833984375\n",
      "Epoch: 5 Batch: 80 Loss: 10935.07421875\n",
      "Epoch: 6 Batch: 0 Loss: 11135.3076171875\n",
      "Epoch: 6 Batch: 20 Loss: 11374.7529296875\n",
      "Epoch: 6 Batch: 40 Loss: 10546.3916015625\n",
      "Epoch: 6 Batch: 60 Loss: 11120.2099609375\n",
      "Epoch: 6 Batch: 80 Loss: 11209.7041015625\n",
      "Epoch: 7 Batch: 0 Loss: 10885.74609375\n",
      "Epoch: 7 Batch: 20 Loss: 10204.58984375\n",
      "Epoch: 7 Batch: 40 Loss: 10855.2666015625\n",
      "Epoch: 7 Batch: 60 Loss: 11390.8525390625\n",
      "Epoch: 7 Batch: 80 Loss: 10227.056640625\n",
      "Epoch: 8 Batch: 0 Loss: 10782.806640625\n",
      "Epoch: 8 Batch: 20 Loss: 10561.419921875\n",
      "Epoch: 8 Batch: 40 Loss: 11857.53515625\n",
      "Epoch: 8 Batch: 60 Loss: 10542.654296875\n",
      "Epoch: 8 Batch: 80 Loss: 10574.005859375\n",
      "Epoch: 9 Batch: 0 Loss: 10772.203125\n",
      "Epoch: 9 Batch: 20 Loss: 11204.4521484375\n",
      "Epoch: 9 Batch: 40 Loss: 11241.345703125\n",
      "Epoch: 9 Batch: 60 Loss: 10400.4599609375\n",
      "Epoch: 9 Batch: 80 Loss: 10622.962890625\n",
      "Epoch: 10 Batch: 0 Loss: 10393.169921875\n",
      "Epoch: 10 Batch: 20 Loss: 11425.1552734375\n",
      "Epoch: 10 Batch: 40 Loss: 10415.330078125\n",
      "Epoch: 10 Batch: 60 Loss: 10918.3671875\n",
      "Epoch: 10 Batch: 80 Loss: 11107.8740234375\n",
      "Epoch: 11 Batch: 0 Loss: 10269.7978515625\n",
      "Epoch: 11 Batch: 20 Loss: 10703.630859375\n",
      "Epoch: 11 Batch: 40 Loss: 10422.640625\n",
      "Epoch: 11 Batch: 60 Loss: 11193.958984375\n",
      "Epoch: 11 Batch: 80 Loss: 10523.572265625\n",
      "Epoch: 12 Batch: 0 Loss: 11175.130859375\n",
      "Epoch: 12 Batch: 20 Loss: 10999.1474609375\n",
      "Epoch: 12 Batch: 40 Loss: 10869.3642578125\n",
      "Epoch: 12 Batch: 60 Loss: 10780.265625\n",
      "Epoch: 12 Batch: 80 Loss: 11398.8681640625\n",
      "Epoch: 13 Batch: 0 Loss: 11064.5087890625\n",
      "Epoch: 13 Batch: 20 Loss: 10454.3505859375\n",
      "Epoch: 13 Batch: 40 Loss: 10810.2958984375\n",
      "Epoch: 13 Batch: 60 Loss: 11413.5029296875\n",
      "Epoch: 13 Batch: 80 Loss: 10732.451171875\n",
      "Epoch: 14 Batch: 0 Loss: 11137.19921875\n",
      "Epoch: 14 Batch: 20 Loss: 10866.6728515625\n",
      "Epoch: 14 Batch: 40 Loss: 10611.4150390625\n",
      "Epoch: 14 Batch: 60 Loss: 10510.29296875\n",
      "Epoch: 14 Batch: 80 Loss: 10315.0625\n",
      "Epoch: 15 Batch: 0 Loss: 10764.70703125\n",
      "Epoch: 15 Batch: 20 Loss: 10802.462890625\n",
      "Epoch: 15 Batch: 40 Loss: 11549.1220703125\n",
      "Epoch: 15 Batch: 60 Loss: 11322.1171875\n",
      "Epoch: 15 Batch: 80 Loss: 10474.1484375\n",
      "Epoch: 16 Batch: 0 Loss: 10689.2978515625\n",
      "Epoch: 16 Batch: 20 Loss: 11021.357421875\n",
      "Epoch: 16 Batch: 40 Loss: 10310.62109375\n",
      "Epoch: 16 Batch: 60 Loss: 11007.2783203125\n",
      "Epoch: 16 Batch: 80 Loss: 10248.541015625\n",
      "Epoch: 17 Batch: 0 Loss: 11172.828125\n",
      "Epoch: 17 Batch: 20 Loss: 10817.1845703125\n",
      "Epoch: 17 Batch: 40 Loss: 10773.7607421875\n",
      "Epoch: 17 Batch: 60 Loss: 10730.005859375\n",
      "Epoch: 17 Batch: 80 Loss: 10873.7373046875\n",
      "Epoch: 18 Batch: 0 Loss: 10271.10546875\n",
      "Epoch: 18 Batch: 20 Loss: 10439.6845703125\n",
      "Epoch: 18 Batch: 40 Loss: 9887.9755859375\n",
      "Epoch: 18 Batch: 60 Loss: 10647.458984375\n",
      "Epoch: 18 Batch: 80 Loss: 10735.3125\n",
      "Epoch: 19 Batch: 0 Loss: 10751.234375\n",
      "Epoch: 19 Batch: 20 Loss: 10482.02734375\n",
      "Epoch: 19 Batch: 40 Loss: 10300.0693359375\n",
      "Epoch: 19 Batch: 60 Loss: 10063.2685546875\n",
      "Epoch: 19 Batch: 80 Loss: 10358.3798828125\n",
      "Epoch: 20 Batch: 0 Loss: 11106.3603515625\n",
      "Epoch: 20 Batch: 20 Loss: 10783.9970703125\n",
      "Epoch: 20 Batch: 40 Loss: 10453.8515625\n",
      "Epoch: 20 Batch: 60 Loss: 10415.0615234375\n",
      "Epoch: 20 Batch: 80 Loss: 10682.962890625\n",
      "Epoch: 21 Batch: 0 Loss: 10486.0751953125\n",
      "Epoch: 21 Batch: 20 Loss: 10575.916015625\n",
      "Epoch: 21 Batch: 40 Loss: 10850.8759765625\n",
      "Epoch: 21 Batch: 60 Loss: 11228.421875\n",
      "Epoch: 21 Batch: 80 Loss: 9956.361328125\n",
      "Epoch: 22 Batch: 0 Loss: 10772.857421875\n",
      "Epoch: 22 Batch: 20 Loss: 10747.2490234375\n",
      "Epoch: 22 Batch: 40 Loss: 10305.5859375\n",
      "Epoch: 22 Batch: 60 Loss: 11179.892578125\n",
      "Epoch: 22 Batch: 80 Loss: 10481.771484375\n",
      "Epoch: 23 Batch: 0 Loss: 10560.86328125\n",
      "Epoch: 23 Batch: 20 Loss: 10301.7392578125\n",
      "Epoch: 23 Batch: 40 Loss: 10311.8193359375\n",
      "Epoch: 23 Batch: 60 Loss: 10635.47265625\n",
      "Epoch: 23 Batch: 80 Loss: 10025.5888671875\n",
      "Epoch: 24 Batch: 0 Loss: 10721.32421875\n",
      "Epoch: 24 Batch: 20 Loss: 11019.12890625\n",
      "Epoch: 24 Batch: 40 Loss: 10236.125\n",
      "Epoch: 24 Batch: 60 Loss: 10634.9345703125\n",
      "Epoch: 24 Batch: 80 Loss: 10210.9228515625\n",
      "Epoch: 25 Batch: 0 Loss: 10418.564453125\n",
      "Epoch: 25 Batch: 20 Loss: 10284.5498046875\n",
      "Epoch: 25 Batch: 40 Loss: 10748.1708984375\n",
      "Epoch: 25 Batch: 60 Loss: 10418.076171875\n",
      "Epoch: 25 Batch: 80 Loss: 10178.3564453125\n",
      "Epoch: 26 Batch: 0 Loss: 10493.8603515625\n",
      "Epoch: 26 Batch: 20 Loss: 10611.603515625\n",
      "Epoch: 26 Batch: 40 Loss: 10395.958984375\n",
      "Epoch: 26 Batch: 60 Loss: 11178.927734375\n",
      "Epoch: 26 Batch: 80 Loss: 10539.6484375\n",
      "Epoch: 27 Batch: 0 Loss: 10172.4072265625\n",
      "Epoch: 27 Batch: 20 Loss: 10076.1845703125\n",
      "Epoch: 27 Batch: 40 Loss: 9602.5673828125\n",
      "Epoch: 27 Batch: 60 Loss: 9942.9326171875\n",
      "Epoch: 27 Batch: 80 Loss: 10806.7763671875\n",
      "Epoch: 28 Batch: 0 Loss: 10763.7568359375\n",
      "Epoch: 28 Batch: 20 Loss: 10112.6240234375\n",
      "Epoch: 28 Batch: 40 Loss: 10584.8828125\n",
      "Epoch: 28 Batch: 60 Loss: 10111.24609375\n",
      "Epoch: 28 Batch: 80 Loss: 10267.908203125\n",
      "Epoch: 29 Batch: 0 Loss: 10872.2431640625\n",
      "Epoch: 29 Batch: 20 Loss: 9759.90234375\n",
      "Epoch: 29 Batch: 40 Loss: 10586.34765625\n",
      "Epoch: 29 Batch: 60 Loss: 10068.009765625\n",
      "Epoch: 29 Batch: 80 Loss: 9787.21875\n"
     ]
    }
   ],
   "source": [
    "num_epochs = 30\n",
    "history = []\n",
    "val_history = []\n",
    "\n",
    "for epoch in range(num_epochs):\n",
    "    \n",
    "    # Training phase\n",
    "    \n",
    "    loss_epoch = []\n",
    "    \n",
    "    for b, (images, masks) in enumerate(train_loader):\n",
    "        images = images.cuda()\n",
    "        masks = masks.cuda()\n",
    "        pred_masks = model(images)\n",
    "        loss = criterion(pred_masks, masks)\n",
    "        loss.backward()\n",
    "        optimizer.step()\n",
    "        optimizer.zero_grad()\n",
    "        loss_epoch.append(loss.item())\n",
    "        if b%20 == 0:\n",
    "            print(f'Epoch: {epoch} Batch: {b} Loss: {loss}')\n",
    "    mean_loss_epoch = np.mean(loss_epoch)\n",
    "    history.append(mean_loss_epoch)\n",
    "    \n",
    "    # Validation Phase\n",
    "    \n",
    "    val_loss_epoch = []\n",
    "    \n",
    "    for b, (images, masks) in enumerate(val_loader):\n",
    "        images = images.cuda()\n",
    "        masks = masks.cuda()\n",
    "        pred_masks = model(images)\n",
    "        val_loss = criterion(pred_masks, masks)\n",
    "        \n",
    "        val_loss_epoch.append(val_loss.item())\n",
    "    \n",
    "    mean_val_loss = np.mean(val_loss_epoch)\n",
    "    history.append(loss)\n",
    "    val_history.append(mean_val_loss)\n",
    "    if len(val_history)>=3:\n",
    "        if (val_history[-1]>val_history[-2]) and (val_history[-1]>val_history[-3]) and (val_history[-1]>val_history[-4]):\n",
    "            break"
   ]
  },
  {
   "cell_type": "code",
   "execution_count": 12,
   "metadata": {},
   "outputs": [],
   "source": [
    "for image, mask in train_loader:\n",
    "    break"
   ]
  },
  {
   "cell_type": "code",
   "execution_count": 13,
   "metadata": {},
   "outputs": [
    {
     "data": {
      "text/plain": [
       "torch.Size([30, 3, 256, 256])"
      ]
     },
     "execution_count": 13,
     "metadata": {},
     "output_type": "execute_result"
    }
   ],
   "source": [
    "image.shape"
   ]
  },
  {
   "cell_type": "code",
   "execution_count": 15,
   "metadata": {},
   "outputs": [],
   "source": [
    "pred = model(image.cuda())"
   ]
  },
  {
   "cell_type": "code",
   "execution_count": 19,
   "metadata": {},
   "outputs": [
    {
     "name": "stderr",
     "output_type": "stream",
     "text": [
      "Clipping input data to the valid range for imshow with RGB data ([0..1] for floats or [0..255] for integers).\n"
     ]
    },
    {
     "data": {
      "text/plain": [
       "<matplotlib.image.AxesImage at 0x7f3b6c0a2320>"
      ]
     },
     "execution_count": 19,
     "metadata": {},
     "output_type": "execute_result"
    },
    {
     "data": {
      "image/png": "[encoded data removed]",
      "text/plain": [
       "<Figure size 432x288 with 1 Axes>"
      ]
     },
     "metadata": {
      "needs_background": "light"
     },
     "output_type": "display_data"
    }
   ],
   "source": [
    "plt.imshow(np.transpose(pred[15].cpu().detach().numpy(), (1, 2, 0)))"
   ]
  },
  {
   "cell_type": "code",
   "execution_count": 22,
   "metadata": {},
   "outputs": [
    {
     "name": "stderr",
     "output_type": "stream",
     "text": [
      "Clipping input data to the valid range for imshow with RGB data ([0..1] for floats or [0..255] for integers).\n"
     ]
    },
    {
     "data": {
      "text/plain": [
       "<matplotlib.image.AxesImage at 0x7f38f5f4e438>"
      ]
     },
     "execution_count": 22,
     "metadata": {},
     "output_type": "execute_result"
    },
    {
     "data": {
      "image/png": "[encoded data removed]",
      "text/plain": [
       "<Figure size 432x288 with 1 Axes>"
      ]
     },
     "metadata": {
      "needs_background": "light"
     },
     "output_type": "display_data"
    }
   ],
   "source": [
    "plt.imshow(np.transpose(mask[15].cpu().detach().numpy(), (1, 2, 0)))"
   ]
  },
  {
   "cell_type": "code",
   "execution_count": null,
   "metadata": {},
   "outputs": [],
   "source": []
  }
 ],
 "metadata": {
  "kernelspec": {
   "display_name": "Python 3",
   "language": "python",
   "name": "python3"
  },
  "language_info": {
   "codemirror_mode": {
    "name": "ipython",
    "version": 3
   },
   "file_extension": ".py",
   "mimetype": "text/x-python",
   "name": "python",
   "nbconvert_exporter": "python",
   "pygments_lexer": "ipython3",
   "version": "3.6.10"
  }
 },
 "nbformat": 4,
 "nbformat_minor": 4
}
